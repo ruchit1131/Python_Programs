{
 "cells": [
  {
   "cell_type": "code",
   "execution_count": 8,
   "metadata": {},
   "outputs": [],
   "source": [
    "#The sum of the primes below 10 is 2 + 3 + 5 + 7 = 17.\n",
    "\n",
    "#Find the sum of all the primes below two million.\n",
    "\n",
    "total=41\n",
    "li=[3,5,7,11,13]\n",
    "i=15\n",
    "while True:\n",
    "    flag=0\n",
    "    j=0\n",
    "    while li[j]<=i/li[j]:\n",
    "        if i%li[j]==0:\n",
    "            flag=1\n",
    "            break\n",
    "        else: j=j+1\n",
    "    if flag==1:\n",
    "        i=i+2\n",
    "    else: \n",
    "        li.append(i)\n",
    "        total=total+i\n",
    "        i=i+2\n",
    "    if i>2000000:\n",
    "        break\n",
    "        \n",
    "        \n",
    "        \n",
    "        \n",
    "    "
   ]
  },
  {
   "cell_type": "code",
   "execution_count": 9,
   "metadata": {},
   "outputs": [
    {
     "name": "stdout",
     "output_type": "stream",
     "text": [
      "142913828922\n"
     ]
    }
   ],
   "source": [
    "print(total)"
   ]
  }
 ],
 "metadata": {
  "kernelspec": {
   "display_name": "Python 3",
   "language": "python",
   "name": "python3"
  },
  "language_info": {
   "codemirror_mode": {
    "name": "ipython",
    "version": 3
   },
   "file_extension": ".py",
   "mimetype": "text/x-python",
   "name": "python",
   "nbconvert_exporter": "python",
   "pygments_lexer": "ipython3",
   "version": "3.7.3"
  }
 },
 "nbformat": 4,
 "nbformat_minor": 2
}
