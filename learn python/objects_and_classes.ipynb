{
 "cells": [
  {
   "cell_type": "code",
   "execution_count": 6,
   "metadata": {},
   "outputs": [],
   "source": [
    "class Robot:\n",
    "    def __init__(self,name,color,weight):\n",
    "        self.name=name\n",
    "        self.color=color\n",
    "        self.weight=weight\n",
    "    def intro(self):\n",
    "        print (\"My name is: \"+self.name)#self.name = this.name in java"
   ]
  },
  {
   "cell_type": "code",
   "execution_count": 12,
   "metadata": {},
   "outputs": [],
   "source": [
    "r1=Robot(\"abc\",\"red\",32)\n",
    "r2=Robot(\"ggg\",\"blue\",22)"
   ]
  },
  {
   "cell_type": "code",
   "execution_count": 13,
   "metadata": {},
   "outputs": [],
   "source": [
    "r1.name=\"djk\""
   ]
  },
  {
   "cell_type": "code",
   "execution_count": 15,
   "metadata": {},
   "outputs": [
    {
     "name": "stdout",
     "output_type": "stream",
     "text": [
      "My name is: djk\n",
      "My name is: ggg\n"
     ]
    }
   ],
   "source": [
    "r1.intro()\n",
    "r2.intro()\n"
   ]
  },
  {
   "cell_type": "code",
   "execution_count": 18,
   "metadata": {},
   "outputs": [
    {
     "name": "stdout",
     "output_type": "stream",
     "text": [
      "My name is: djk\n"
     ]
    }
   ],
   "source": [
    "class Person:\n",
    "    def __init__(self,n,p,s,ro):\n",
    "        self.name=n\n",
    "        self.personality=p\n",
    "        self.sex=s\n",
    "        self.robot_owned=ro\n",
    "p1=Person(\"ruvya\",\"logician\",\"female\",r1)\n",
    "p1.robot_owned.intro()\n",
    "    "
   ]
  },
  {
   "cell_type": "code",
   "execution_count": null,
   "metadata": {},
   "outputs": [],
   "source": []
  }
 ],
 "metadata": {
  "kernelspec": {
   "display_name": "Python 3",
   "language": "python",
   "name": "python3"
  },
  "language_info": {
   "codemirror_mode": {
    "name": "ipython",
    "version": 3
   },
   "file_extension": ".py",
   "mimetype": "text/x-python",
   "name": "python",
   "nbconvert_exporter": "python",
   "pygments_lexer": "ipython3",
   "version": "3.7.3"
  }
 },
 "nbformat": 4,
 "nbformat_minor": 2
}
