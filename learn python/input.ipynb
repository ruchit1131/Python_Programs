{
 "cells": [
  {
   "cell_type": "code",
   "execution_count": 1,
   "metadata": {},
   "outputs": [
    {
     "name": "stdout",
     "output_type": "stream",
     "text": [
      "how old are you 20\n"
     ]
    }
   ],
   "source": [
    "print(\"how old are you\", end=' ')\n",
    "age=input()"
   ]
  },
  {
   "cell_type": "code",
   "execution_count": 2,
   "metadata": {},
   "outputs": [
    {
     "name": "stdout",
     "output_type": "stream",
     "text": [
      "Your weight is\n",
      "sixty\n"
     ]
    }
   ],
   "source": [
    "weight=input(\"Your weight is\\n\")"
   ]
  },
  {
   "cell_type": "code",
   "execution_count": 3,
   "metadata": {},
   "outputs": [
    {
     "name": "stdout",
     "output_type": "stream",
     "text": [
      "20sixty\n",
      "your name:ruchit\n",
      "ruchit\n"
     ]
    }
   ],
   "source": [
    "print(age+weight)\n",
    "name=input(\"your name:\")\n",
    "print(name)\n"
   ]
  },
  {
   "cell_type": "code",
   "execution_count": 4,
   "metadata": {},
   "outputs": [
    {
     "name": "stdout",
     "output_type": "stream",
     "text": [
      "your age20\n"
     ]
    }
   ],
   "source": [
    "#to convert the value to int use int() \n",
    "age=int(input(\"your age\"))"
   ]
  },
  {
   "cell_type": "code",
   "execution_count": 22,
   "metadata": {},
   "outputs": [
    {
     "name": "stdout",
     "output_type": "stream",
     "text": [
      "you will die in age of 20 years\n"
     ]
    }
   ],
   "source": [
    "print(f\"you will die in {'age of '+str(age)} years\") #since we are already using double quotes, we have to use single quotes in {}"
   ]
  },
  {
   "cell_type": "code",
   "execution_count": 24,
   "metadata": {},
   "outputs": [
    {
     "name": "stdout",
     "output_type": "stream",
     "text": [
      "how much is a shake?0.00000001\n"
     ]
    }
   ],
   "source": [
    "x=float(input(\"how much is a shake?\"))"
   ]
  },
  {
   "cell_type": "code",
   "execution_count": 25,
   "metadata": {},
   "outputs": [
    {
     "name": "stdout",
     "output_type": "stream",
     "text": [
      "1e-08\n"
     ]
    }
   ],
   "source": [
    "print(x)"
   ]
  },
  {
   "cell_type": "code",
   "execution_count": 28,
   "metadata": {},
   "outputs": [
    {
     "name": "stdout",
     "output_type": "stream",
     "text": [
      "ruchit\n",
      "my name is ruchit\n"
     ]
    }
   ],
   "source": [
    "print(\"my name is \"+input())"
   ]
  },
  {
   "cell_type": "code",
   "execution_count": 29,
   "metadata": {},
   "outputs": [
    {
     "name": "stdout",
     "output_type": "stream",
     "text": [
      "a\n",
      "b\n",
      "ab\n"
     ]
    }
   ],
   "source": [
    "z=input()\n",
    "y=input()\n",
    "print(z+y)"
   ]
  },
  {
   "cell_type": "code",
   "execution_count": 30,
   "metadata": {},
   "outputs": [],
   "source": [
    "from sys import argv"
   ]
  },
  {
   "cell_type": "code",
   "execution_count": 33,
   "metadata": {},
   "outputs": [
    {
     "name": "stdout",
     "output_type": "stream",
     "text": [
      "C:\\Users\\Ruchit\\Anaconda3\\lib\\site-packages\\ipykernel_launcher.py -f C:\\Users\\Ruchit\\AppData\\Roaming\\jupyter\\runtime\\kernel-c75aaca4-80d8-444e-9a7e-bfa74f7d544d.json\n"
     ]
    }
   ],
   "source": [
    "name,roll_no,college=argv\n",
    "print(name,roll_no,college)\n",
    "#from now on make programs in notepad or any editor"
   ]
  },
  {
   "cell_type": "code",
   "execution_count": null,
   "metadata": {},
   "outputs": [],
   "source": []
  }
 ],
 "metadata": {
  "kernelspec": {
   "display_name": "Python 3",
   "language": "python",
   "name": "python3"
  },
  "language_info": {
   "codemirror_mode": {
    "name": "ipython",
    "version": 3
   },
   "file_extension": ".py",
   "mimetype": "text/x-python",
   "name": "python",
   "nbconvert_exporter": "python",
   "pygments_lexer": "ipython3",
   "version": "3.7.3"
  }
 },
 "nbformat": 4,
 "nbformat_minor": 2
}
