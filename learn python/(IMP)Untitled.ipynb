{
 "cells": [
  {
   "cell_type": "code",
   "execution_count": null,
   "metadata": {},
   "outputs": [],
   "source": [
    "import sys\n",
    "class User(object):\n",
    "    id=''\n",
    "    name=''\n",
    "    def __init__(self, id , name):\n",
    "        self.id = id\n",
    "        self.name = name\n",
    "    def printid(self):\n",
    "        print(self.id)\n",
    "        print(self.name)\n",
    "objects = {}\n",
    "\n",
    "    \n",
    "    \n"
   ]
  },
  {
   "cell_type": "code",
   "execution_count": null,
   "metadata": {},
   "outputs": [],
   "source": [
    "k = ''\n",
    "while k != '0':\n",
    "    k = input(\"enter choice:\\n 1 user\\n 0 exit\")\n",
    "    if k == '1':\n",
    "        id=input(\"enter id\")\n",
    "        name=input(\"enter name\")\n",
    "        objects[id] = User(id,name)\n",
    "\n",
    "        \n",
    "g=input(\"enter object name:\")\n",
    "if g in objects:\n",
    "    objects[g].printid()\n",
    "else:\n",
    "    print(\"object not found\")\n",
    "\n",
    "g=input(\"enter object name:\")\n",
    "if g in objects:\n",
    "    objects[g].printid()\n",
    "else:\n",
    "    print(\"object not found\")\n",
    "      \n",
    "      \n",
    "\n",
    "        \n",
    "    "
   ]
  },
  {
   "cell_type": "code",
   "execution_count": null,
   "metadata": {},
   "outputs": [],
   "source": [
    "bal = 3\n",
    "k = 1\n",
    "def Challan():\n",
    "    global bal \n",
    "    bal = 5\n",
    "    \n",
    "Challan()\n",
    "print(bal)\n",
    "\n"
   ]
  },
  {
   "cell_type": "code",
   "execution_count": 5,
   "metadata": {},
   "outputs": [
    {
     "name": "stdout",
     "output_type": "stream",
     "text": [
      "hello geeks\n",
      "hello geeks\n",
      "hello geeks\n",
      "hello geeks\n",
      "hello geeks\n",
      "hello geeks\n",
      "hello geeks\n",
      "hello geeks\n",
      "hello geeks\n",
      "hello geeks\n",
      "\n"
     ]
    }
   ],
   "source": [
    "# import only system from os \n",
    "from os import system, name \n",
    "  \n",
    "# import sleep to show output for some time period \n",
    "from time import sleep \n",
    "  \n",
    "# define our clear function \n",
    "def clear(): \n",
    "  \n",
    "    # for windows \n",
    "    if name == 'nt': \n",
    "        _ = system('cls') \n",
    "  \n",
    "    # for mac and linux(here, os.name is 'posix') \n",
    "    else: \n",
    "        _ = system('clear') \n",
    "  \n",
    "# print out some text \n",
    "print('hello geeks\\n'*10) \n",
    "  \n",
    "# sleep for 2 seconds after printing output \n",
    "sleep(0.001) \n",
    "  \n",
    "# now call function we defined above \n",
    "clear() "
   ]
  },
  {
   "cell_type": "code",
   "execution_count": 3,
   "metadata": {},
   "outputs": [
    {
     "name": "stdout",
     "output_type": "stream",
     "text": [
      "enter namekdjkd\n",
      "enter idhdfkd\n",
      "kdjkd hdfkd\n"
     ]
    }
   ],
   "source": [
    "def add(a, b):\n",
    "    print (a , b)\n",
    "    \n",
    "def Create_User():\n",
    "    add(input(\"enter name\"), input(\"enter id\"))\n",
    "\n",
    "Create_User()\n",
    "\n",
    "\n",
    "    \n"
   ]
  },
  {
   "cell_type": "code",
   "execution_count": 7,
   "metadata": {},
   "outputs": [
    {
     "name": "stdout",
     "output_type": "stream",
     "text": [
      "********************      ********************\n",
      "********************FasTag********************\n",
      "********************      ********************\n",
      "\n",
      "\n"
     ]
    }
   ],
   "source": [
    "print (\"********************      ********************\\n********************FasTag********************\\n********************      ********************\\n\\n\")"
   ]
  },
  {
   "cell_type": "code",
   "execution_count": 11,
   "metadata": {},
   "outputs": [
    {
     "name": "stdout",
     "output_type": "stream",
     "text": [
      "phone number7725926636\n",
      "hello worldhey babe\n",
      "{\"return\":true,\"request_id\":\"sdw9xtqmj02h618\",\"message\":[\"Mobile Number in DND, Check delivery reports from panel\"]}\n"
     ]
    }
   ],
   "source": [
    "import requests\n",
    "url = \"https://www.fast2sms.com/dev/bulk\"\n",
    "pno = input(\"phone number\")\n",
    "msg = input (\"hello world\")\n",
    "payload = \"sender_id=FSTSMS&message=\"+msg+'&language=english&route=p&numbers='+pno\n",
    "headers = {\n",
    "'authorization': \"ZJloIiF3AhbUdWnkDfaTepqm2js7BYMVSPyL4C9NzK8xGQR5gcQMFAfTXaungkvBG9OHymIZwqEVYD1h\",\n",
    "'Content-Type': \"application/x-www-form-urlencoded\",\n",
    "'Cache-Control': \"no-cache\",\n",
    "}\n",
    "response = requests.request(\"POST\", url, data=payload, headers=headers)\n",
    "print(response.text)"
   ]
  },
  {
   "cell_type": "code",
   "execution_count": 3,
   "metadata": {},
   "outputs": [
    {
     "name": "stdout",
     "output_type": "stream",
     "text": [
      "59764\n"
     ]
    }
   ],
   "source": [
    "import random\n",
    "print (random.randrange(10000,99999,1))"
   ]
  },
  {
   "cell_type": "code",
   "execution_count": null,
   "metadata": {},
   "outputs": [],
   "source": []
  }
 ],
 "metadata": {
  "kernelspec": {
   "display_name": "Python 3",
   "language": "python",
   "name": "python3"
  },
  "language_info": {
   "codemirror_mode": {
    "name": "ipython",
    "version": 3
   },
   "file_extension": ".py",
   "mimetype": "text/x-python",
   "name": "python",
   "nbconvert_exporter": "python",
   "pygments_lexer": "ipython3",
   "version": "3.7.3"
  }
 },
 "nbformat": 4,
 "nbformat_minor": 2
}
